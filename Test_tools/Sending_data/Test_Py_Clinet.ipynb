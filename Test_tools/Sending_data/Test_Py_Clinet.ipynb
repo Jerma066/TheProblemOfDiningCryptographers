{
 "cells": [
  {
   "cell_type": "code",
   "execution_count": null,
   "metadata": {},
   "outputs": [],
   "source": [
    "# asyncio, tcp клиент\n",
    "\n",
    "import asyncio\n",
    "\n",
    "async def tcp_echo_client(message, loop):\n",
    "    reader, writer = await asyncio.open_connection(\"127.0.0.1\", 10001, loop=loop)\n",
    "\n",
    "    print(\"send: %r\" % message)\n",
    "    writer.write(message.encode())\n",
    "    writer.close()\n",
    "\n",
    "loop = asyncio.get_event_loop()\n",
    "message = \"hello World!\"\n",
    "loop.run_until_complete(tcp_echo_client(message, loop))\n",
    "\n",
    "loop.close()"
   ]
  }
 ],
 "metadata": {
  "kernelspec": {
   "display_name": "Python 3",
   "language": "python",
   "name": "python3"
  },
  "language_info": {
   "codemirror_mode": {
    "name": "ipython",
    "version": 3
   },
   "file_extension": ".py",
   "mimetype": "text/x-python",
   "name": "python",
   "nbconvert_exporter": "python",
   "pygments_lexer": "ipython3",
   "version": "3.6.5"
  }
 },
 "nbformat": 4,
 "nbformat_minor": 2
}
